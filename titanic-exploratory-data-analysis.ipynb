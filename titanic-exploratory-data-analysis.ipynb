{
 "cells": [
  {
   "cell_type": "code",
   "execution_count": 1,
   "metadata": {
    "_cell_guid": "b1076dfc-b9ad-4769-8c92-a6c4dae69d19",
    "_uuid": "8f2839f25d086af736a60e9eeb907d3b93b6e0e5"
   },
   "outputs": [
    {
     "name": "stdout",
     "output_type": "stream",
     "text": [
      "/kaggle/input/titanic/gender_submission.csv\n",
      "/kaggle/input/titanic/test.csv\n",
      "/kaggle/input/titanic/train.csv\n"
     ]
    }
   ],
   "source": [
    "# This Python 3 environment comes with many helpful analytics libraries installed\n",
    "# It is defined by the kaggle/python docker image: https://github.com/kaggle/docker-python\n",
    "# For example, here's several helpful packages to load in \n",
    "\n",
    "import numpy as np # linear algebra\n",
    "import pandas as pd # data processing, CSV file I/O (e.g. pd.read_csv)\n",
    "\n",
    "# Input data files are available in the \"../input/\" directory.\n",
    "# For example, running this (by clicking run or pressing Shift+Enter) will list all files under the input directory\n",
    "\n",
    "import os\n",
    "for dirname, _, filenames in os.walk('/kaggle/input'):\n",
    "    for filename in filenames:\n",
    "        print(os.path.join(dirname, filename))\n",
    "\n",
    "# Any results you write to the current directory are saved as output."
   ]
  },
  {
   "cell_type": "code",
   "execution_count": 2,
   "metadata": {
    "_cell_guid": "79c7e3d0-c299-4dcb-8224-4455121ee9b0",
    "_uuid": "d629ff2d2480ee46fbb7e2d37f6b5fab8052498a"
   },
   "outputs": [],
   "source": [
    "import matplotlib.pyplot as plt \n",
    "import seaborn as sns"
   ]
  },
  {
   "cell_type": "code",
   "execution_count": 3,
   "metadata": {},
   "outputs": [
    {
     "data": {
      "text/html": [
       "<div>\n",
       "<style scoped>\n",
       "    .dataframe tbody tr th:only-of-type {\n",
       "        vertical-align: middle;\n",
       "    }\n",
       "\n",
       "    .dataframe tbody tr th {\n",
       "        vertical-align: top;\n",
       "    }\n",
       "\n",
       "    .dataframe thead th {\n",
       "        text-align: right;\n",
       "    }\n",
       "</style>\n",
       "<table border=\"1\" class=\"dataframe\">\n",
       "  <thead>\n",
       "    <tr style=\"text-align: right;\">\n",
       "      <th></th>\n",
       "      <th>Survived</th>\n",
       "      <th>Pclass</th>\n",
       "      <th>Name</th>\n",
       "      <th>Sex</th>\n",
       "      <th>Age</th>\n",
       "      <th>SibSp</th>\n",
       "      <th>Parch</th>\n",
       "      <th>Ticket</th>\n",
       "      <th>Fare</th>\n",
       "      <th>Cabin</th>\n",
       "      <th>Embarked</th>\n",
       "    </tr>\n",
       "    <tr>\n",
       "      <th>PassengerId</th>\n",
       "      <th></th>\n",
       "      <th></th>\n",
       "      <th></th>\n",
       "      <th></th>\n",
       "      <th></th>\n",
       "      <th></th>\n",
       "      <th></th>\n",
       "      <th></th>\n",
       "      <th></th>\n",
       "      <th></th>\n",
       "      <th></th>\n",
       "    </tr>\n",
       "  </thead>\n",
       "  <tbody>\n",
       "    <tr>\n",
       "      <th>1</th>\n",
       "      <td>0</td>\n",
       "      <td>3</td>\n",
       "      <td>Braund, Mr. Owen Harris</td>\n",
       "      <td>male</td>\n",
       "      <td>22.0</td>\n",
       "      <td>1</td>\n",
       "      <td>0</td>\n",
       "      <td>A/5 21171</td>\n",
       "      <td>7.2500</td>\n",
       "      <td>NaN</td>\n",
       "      <td>S</td>\n",
       "    </tr>\n",
       "    <tr>\n",
       "      <th>2</th>\n",
       "      <td>1</td>\n",
       "      <td>1</td>\n",
       "      <td>Cumings, Mrs. John Bradley (Florence Briggs Th...</td>\n",
       "      <td>female</td>\n",
       "      <td>38.0</td>\n",
       "      <td>1</td>\n",
       "      <td>0</td>\n",
       "      <td>PC 17599</td>\n",
       "      <td>71.2833</td>\n",
       "      <td>C85</td>\n",
       "      <td>C</td>\n",
       "    </tr>\n",
       "    <tr>\n",
       "      <th>3</th>\n",
       "      <td>1</td>\n",
       "      <td>3</td>\n",
       "      <td>Heikkinen, Miss. Laina</td>\n",
       "      <td>female</td>\n",
       "      <td>26.0</td>\n",
       "      <td>0</td>\n",
       "      <td>0</td>\n",
       "      <td>STON/O2. 3101282</td>\n",
       "      <td>7.9250</td>\n",
       "      <td>NaN</td>\n",
       "      <td>S</td>\n",
       "    </tr>\n",
       "    <tr>\n",
       "      <th>4</th>\n",
       "      <td>1</td>\n",
       "      <td>1</td>\n",
       "      <td>Futrelle, Mrs. Jacques Heath (Lily May Peel)</td>\n",
       "      <td>female</td>\n",
       "      <td>35.0</td>\n",
       "      <td>1</td>\n",
       "      <td>0</td>\n",
       "      <td>113803</td>\n",
       "      <td>53.1000</td>\n",
       "      <td>C123</td>\n",
       "      <td>S</td>\n",
       "    </tr>\n",
       "    <tr>\n",
       "      <th>5</th>\n",
       "      <td>0</td>\n",
       "      <td>3</td>\n",
       "      <td>Allen, Mr. William Henry</td>\n",
       "      <td>male</td>\n",
       "      <td>35.0</td>\n",
       "      <td>0</td>\n",
       "      <td>0</td>\n",
       "      <td>373450</td>\n",
       "      <td>8.0500</td>\n",
       "      <td>NaN</td>\n",
       "      <td>S</td>\n",
       "    </tr>\n",
       "  </tbody>\n",
       "</table>\n",
       "</div>"
      ],
      "text/plain": [
       "             Survived  Pclass  \\\n",
       "PassengerId                     \n",
       "1                   0       3   \n",
       "2                   1       1   \n",
       "3                   1       3   \n",
       "4                   1       1   \n",
       "5                   0       3   \n",
       "\n",
       "                                                          Name     Sex   Age  \\\n",
       "PassengerId                                                                    \n",
       "1                                      Braund, Mr. Owen Harris    male  22.0   \n",
       "2            Cumings, Mrs. John Bradley (Florence Briggs Th...  female  38.0   \n",
       "3                                       Heikkinen, Miss. Laina  female  26.0   \n",
       "4                 Futrelle, Mrs. Jacques Heath (Lily May Peel)  female  35.0   \n",
       "5                                     Allen, Mr. William Henry    male  35.0   \n",
       "\n",
       "             SibSp  Parch            Ticket     Fare Cabin Embarked  \n",
       "PassengerId                                                          \n",
       "1                1      0         A/5 21171   7.2500   NaN        S  \n",
       "2                1      0          PC 17599  71.2833   C85        C  \n",
       "3                0      0  STON/O2. 3101282   7.9250   NaN        S  \n",
       "4                1      0            113803  53.1000  C123        S  \n",
       "5                0      0            373450   8.0500   NaN        S  "
      ]
     },
     "execution_count": 3,
     "metadata": {},
     "output_type": "execute_result"
    }
   ],
   "source": [
    "# Open the dataset \n",
    "train = pd.read_csv(\"../input/titanic/train.csv\", index_col=0)\n",
    "test = pd.read_csv(\"../input/titanic/test.csv\", index_col=0)\n",
    "\n",
    "# Show first lines\n",
    "train.head()"
   ]
  },
  {
   "cell_type": "markdown",
   "metadata": {},
   "source": [
    "## 1. Data"
   ]
  },
  {
   "cell_type": "code",
   "execution_count": 4,
   "metadata": {},
   "outputs": [
    {
     "name": "stdout",
     "output_type": "stream",
     "text": [
      "Dimension :\n",
      "\t891 ligne\n",
      "\t11 colonnes\n",
      "\n",
      "Features :\n",
      "['Survived' 'Pclass' 'Name' 'Sex' 'Age' 'SibSp' 'Parch' 'Ticket' 'Fare'\n",
      " 'Cabin' 'Embarked']\n",
      "\n",
      "\n",
      "Missing vlues : \n",
      "Survived      0\n",
      "Pclass        0\n",
      "Name          0\n",
      "Sex           0\n",
      "Age         177\n",
      "SibSp         0\n",
      "Parch         0\n",
      "Ticket        0\n",
      "Fare          0\n",
      "Cabin       687\n",
      "Embarked      2\n",
      "dtype: int64\n",
      "\n",
      "\n",
      "Uniques values : \n",
      "Survived : 2 \n",
      "Pclass : 3 \n",
      "Name : 891 \n",
      "Sex : 2 \n",
      "Age : 89 \n",
      "SibSp : 7 \n",
      "Parch : 7 \n",
      "Ticket : 681 \n",
      "Fare : 248 \n",
      "Cabin : 148 \n",
      "Embarked : 4 \n",
      "\n",
      "\n",
      "Type of columns :\n",
      " Survived      int64\n",
      "Pclass        int64\n",
      "Name         object\n",
      "Sex          object\n",
      "Age         float64\n",
      "SibSp         int64\n",
      "Parch         int64\n",
      "Ticket       object\n",
      "Fare        float64\n",
      "Cabin        object\n",
      "Embarked     object\n",
      "dtype: object\n"
     ]
    }
   ],
   "source": [
    "# Dimensions \n",
    "print(f\"Dimension :\\n\\t{train.shape[0]} ligne\\n\\t{train.shape[1]} colonnes\")\n",
    "\n",
    "# Show Features\n",
    "print(f\"\\nFeatures :\\n{train.columns.values}\")\n",
    "\n",
    "# Count the number of missing values in each column\n",
    "print(f\"\\n\\nMissing vlues : \\n{train.isna().sum()}\")\n",
    "\n",
    "# Count the number of different values in each column \n",
    "print(\"\\n\\nUniques values : \")\n",
    "for column in train.columns:\n",
    "    print(f\"{column} : {len(train[column].unique())} \")\n",
    "    \n",
    "# Know the types of columns\n",
    "print(\"\\n\\nType of columns :\\n\",train.dtypes)"
   ]
  },
  {
   "cell_type": "markdown",
   "metadata": {},
   "source": [
    "## 2. Exploratory Data Analysis"
   ]
  },
  {
   "cell_type": "markdown",
   "metadata": {},
   "source": [
    "* ### variable Survivel"
   ]
  },
  {
   "cell_type": "code",
   "execution_count": 5,
   "metadata": {},
   "outputs": [
    {
     "data": {
      "image/png": "[encoded data removed]",
      "text/plain": [
       "<Figure size 432x288 with 2 Axes>"
      ]
     },
     "metadata": {
      "needs_background": "light"
     },
     "output_type": "display_data"
    }
   ],
   "source": [
    "# Proportion of survival\n",
    "labels = [\"Dead\", \"Survived\"]\n",
    "sizes = train['Survived'].value_counts().values\n",
    "colors = [\"r\", \"g\"]\n",
    "\n",
    "plt.subplot(1,2,1)\n",
    "plt.title(\"Proportion of survival\")\n",
    "plt.pie(sizes, labels=labels, colors=colors, shadow=True, autopct='%1.1f%%')\n",
    "\n",
    "plt.subplot(1,2,2)\n",
    "plt.bar(labels, sizes, color=colors)\n",
    "plt.show()"
   ]
  },
  {
   "cell_type": "markdown",
   "metadata": {},
   "source": [
    "* ### Pclass"
   ]
  },
  {
   "cell_type": "code",
   "execution_count": 6,
   "metadata": {},
   "outputs": [
    {
     "data": {
      "image/png": "[encoded data removed]",
      "text/plain": [
       "<Figure size 432x288 with 1 Axes>"
      ]
     },
     "metadata": {
      "needs_background": "light"
     },
     "output_type": "display_data"
    }
   ],
   "source": [
    "plt.title(\"Pclass\")\n",
    "sns.barplot(y='Survived',x='Pclass',data=train)\n",
    "plt.show()"
   ]
  },
  {
   "cell_type": "markdown",
   "metadata": {},
   "source": [
    "* ### Sex"
   ]
  },
  {
   "cell_type": "code",
   "execution_count": 7,
   "metadata": {},
   "outputs": [
    {
     "data": {
      "image/png": "[encoded data removed]",
      "text/plain": [
       "<Figure size 432x288 with 1 Axes>"
      ]
     },
     "metadata": {
      "needs_background": "light"
     },
     "output_type": "display_data"
    }
   ],
   "source": [
    "plot = sns.barplot(y='Survived',x='Sex',data=train)"
   ]
  },
  {
   "cell_type": "markdown",
   "metadata": {},
   "source": [
    "* ### Age"
   ]
  },
  {
   "cell_type": "code",
   "execution_count": 8,
   "metadata": {},
   "outputs": [
    {
     "data": {
      "image/png": "[encoded data removed]",
      "text/plain": [
       "<Figure size 432x288 with 1 Axes>"
      ]
     },
     "metadata": {
      "needs_background": "light"
     },
     "output_type": "display_data"
    },
    {
     "data": {
      "image/png": "[encoded data removed]",
      "text/plain": [
       "<Figure size 432x288 with 1 Axes>"
      ]
     },
     "metadata": {
      "needs_background": "light"
     },
     "output_type": "display_data"
    }
   ],
   "source": [
    "survived = train[train.Survived == 1]\n",
    "died = train[train.Survived == 0]\n",
    "\n",
    "ax = survived.Age.plot.hist(histtype=\"stepfilled\", bins=50, alpha=0.6, color=\"g\", label=\"Survived\")\n",
    "ax = died.Age.plot.hist(histtype=\"stepfilled\", bins=50, alpha=0.6, color=\"r\", label=\"Deid\")\n",
    "plt.xlabel(\"Age\")\n",
    "plt.legend()\n",
    "plt.show()\n",
    "ax = sns.boxplot(x=\"Survived\", y=\"Age\", hue=\"Survived\", data=train)"
   ]
  },
  {
   "cell_type": "markdown",
   "metadata": {},
   "source": [
    "* ### SibSp"
   ]
  },
  {
   "cell_type": "code",
   "execution_count": 9,
   "metadata": {},
   "outputs": [
    {
     "data": {
      "image/png": "[encoded data removed]",
      "text/plain": [
       "<Figure size 432x288 with 1 Axes>"
      ]
     },
     "metadata": {
      "needs_background": "light"
     },
     "output_type": "display_data"
    }
   ],
   "source": [
    "ax = sns.barplot(y='Survived',x='SibSp',data=train)"
   ]
  },
  {
   "cell_type": "markdown",
   "metadata": {},
   "source": [
    "* ### Parch"
   ]
  },
  {
   "cell_type": "code",
   "execution_count": 10,
   "metadata": {},
   "outputs": [
    {
     "data": {
      "image/png": "[encoded data removed]",
      "text/plain": [
       "<Figure size 432x288 with 1 Axes>"
      ]
     },
     "metadata": {
      "needs_background": "light"
     },
     "output_type": "display_data"
    }
   ],
   "source": [
    "ax = sns.barplot(y='Survived',x='Parch',data=train)"
   ]
  },
  {
   "cell_type": "markdown",
   "metadata": {},
   "source": [
    "* ## Fare"
   ]
  },
  {
   "cell_type": "code",
   "execution_count": 11,
   "metadata": {},
   "outputs": [
    {
     "data": {
      "image/png": "[encoded data removed]",
      "text/plain": [
       "<Figure size 432x288 with 1 Axes>"
      ]
     },
     "metadata": {
      "needs_background": "light"
     },
     "output_type": "display_data"
    },
    {
     "data": {
      "image/png": "[encoded data removed]",
      "text/plain": [
       "<Figure size 432x288 with 1 Axes>"
      ]
     },
     "metadata": {
      "needs_background": "light"
     },
     "output_type": "display_data"
    }
   ],
   "source": [
    "ax = survived.Fare.plot.hist(histtype=\"stepfilled\", alpha=0.6, color=\"g\", label=\"Survived\")\n",
    "ax = died.Fare.plot.hist(histtype=\"stepfilled\", alpha=0.6, color=\"r\", label=\"Died\")\n",
    "plt.legend()\n",
    "plt.show()\n",
    "\n",
    "ax = sns.boxplot(x=\"Survived\", y=\"Fare\", hue=\"Survived\", data=train)"
   ]
  },
  {
   "cell_type": "markdown",
   "metadata": {},
   "source": [
    "* ### Embarked"
   ]
  },
  {
   "cell_type": "code",
   "execution_count": 12,
   "metadata": {},
   "outputs": [
    {
     "data": {
      "image/png": "[encoded data removed]",
      "text/plain": [
       "<Figure size 432x288 with 1 Axes>"
      ]
     },
     "metadata": {
      "needs_background": "light"
     },
     "output_type": "display_data"
    }
   ],
   "source": [
    "ax = sns.barplot(y='Survived',x='Embarked',data=train)"
   ]
  },
  {
   "cell_type": "markdown",
   "metadata": {},
   "source": [
    "## 2.2 Correlation matrix "
   ]
  },
  {
   "cell_type": "code",
   "execution_count": 13,
   "metadata": {},
   "outputs": [
    {
     "data": {
      "image/png": "[encoded data removed]",
      "text/plain": [
       "<Figure size 432x288 with 2 Axes>"
      ]
     },
     "metadata": {
      "needs_background": "light"
     },
     "output_type": "display_data"
    }
   ],
   "source": [
    "corrmat = train.corr()\n",
    "plot = sns.heatmap(corrmat, vmax=.9, square=True)"
   ]
  },
  {
   "cell_type": "code",
   "execution_count": 14,
   "metadata": {},
   "outputs": [
    {
     "name": "stdout",
     "output_type": "stream",
     "text": [
      "\n",
      "\n",
      "Unique Values :\n",
      "Survived : 2 \n",
      "Pclass : 3 \n",
      "Sex : 2 \n",
      "Age : 89 \n",
      "SibSp : 7 \n",
      "Parch : 7 \n",
      "Ticket : 680 \n",
      "Fare : 247 \n",
      "Embarked : 3 \n",
      "\n",
      "\n",
      "Type of columns:\n",
      "Survived      int64\n",
      "Pclass        int64\n",
      "Sex          object\n",
      "Age         float64\n",
      "SibSp         int64\n",
      "Parch         int64\n",
      "Ticket       object\n",
      "Fare        float64\n",
      "Embarked     object\n",
      "dtype: object\n"
     ]
    }
   ],
   "source": [
    "# Deleting Missing Values of column \"Embarked\"\n",
    "train.dropna(subset=[\"Embarked\"], axis=0, inplace=True)\n",
    "\n",
    "# removal of the column \"Cabin\" \n",
    "train.drop('Cabin', axis=1, inplace=True)\n",
    "\n",
    "# removal of the column \"Name\"  \n",
    "train.drop(\"Name\", axis=1, inplace=True)\n",
    "\n",
    "# Unique Values\n",
    "print(\"\\n\\nUnique Values :\")\n",
    "for column in train.columns:\n",
    "    print(f\"{column} : {len(train[column].unique())} \")\n",
    "    \n",
    "    \n",
    "# Type of columns\n",
    "print(f\"\\n\\nType of columns:\\n{train.dtypes}\")"
   ]
  },
  {
   "cell_type": "code",
   "execution_count": 15,
   "metadata": {},
   "outputs": [
    {
     "name": "stdout",
     "output_type": "stream",
     "text": [
      "Train set: (711, 8)\n",
      "Test set: (178, 8)\n"
     ]
    }
   ],
   "source": [
    "# Splitting data\n",
    "from sklearn.model_selection import train_test_split\n",
    "\n",
    "X_train, X_test, y_train, y_test = train_test_split(train.drop(\"Survived\", axis=1),\n",
    "                                                    train.Survived, \n",
    "                                                    test_size=0.2)\n",
    "\n",
    "print(f\"Train set: {X_train.shape}\")\n",
    "print(f\"Test set: {X_test.shape}\")"
   ]
  },
  {
   "cell_type": "code",
   "execution_count": 16,
   "metadata": {},
   "outputs": [
    {
     "name": "stdout",
     "output_type": "stream",
     "text": [
      "Dimensions:  (711, 573)\n",
      "\n",
      "\n",
      "Missing vlues: 0\n"
     ]
    }
   ],
   "source": [
    "# Encoding categorical values\n",
    "from sklearn.preprocessing import OneHotEncoder\n",
    "\n",
    "# columns \"Sex\"\n",
    "sex_encoder = OneHotEncoder()\n",
    "\n",
    "sex_tf_set = pd.DataFrame(sex_encoder.fit_transform(X_train[[\"Sex\"]]).toarray(),\n",
    "                          columns=[\"F\", \"H\"], index=X_train.index)\n",
    "\n",
    "X_train = pd.concat([X_train.drop(\"Sex\", axis=1), sex_tf_set], axis=1)\n",
    "\n",
    "\n",
    "# columns \"Embarked\"\n",
    "embarked_encoder = OneHotEncoder()\n",
    "\n",
    "embarked_tf_set = pd.DataFrame(embarked_encoder.fit_transform(X_train[[\"Embarked\"]]).toarray(),\n",
    "                               columns=[\"C\", \"S\", \"Q\"], index=X_train.index)\n",
    "X_train = pd.concat([X_train.drop(\"Embarked\", axis=1), embarked_tf_set], axis=1)\n",
    "\n",
    "\n",
    "# columns \"Ticket\"\n",
    "ticket_encoder = OneHotEncoder(handle_unknown='ignore')\n",
    "\n",
    "ticket_tf_set = pd.DataFrame(ticket_encoder.fit_transform(X_train[[\"Ticket\"]]).toarray(),\n",
    "                             columns=[f\"Ticket_{i}\" for i in range(len(X_train.Ticket.unique()))],\n",
    "                             index=X_train.index)\n",
    "X_train = pd.concat([X_train.drop(\"Ticket\", axis=1), ticket_tf_set], axis=1)\n",
    "\n",
    "print(\"Dimensions: \", X_train.shape)\n",
    "\n",
    "\n",
    "\n",
    "# Imputation \n",
    "\n",
    "# Variable Age\n",
    "from sklearn.impute import SimpleImputer\n",
    "\n",
    "age_impute = SimpleImputer(missing_values=np.nan, strategy=\"mean\")\n",
    "X_train[\"Age\"] = age_impute.fit_transform(X_train[[\"Age\"]], y_train)\n",
    "\n",
    "\n",
    "# Variable Fare\n",
    "fare_impute = SimpleImputer(missing_values=np.nan, strategy=\"mean\").fit(X_train[[\"Fare\"]], y_train)\n",
    "\n",
    "# Count the number of missing values in each column\n",
    "print(f\"\\n\\nMissing vlues: {X_train.isna().sum().sum()}\")\n",
    "\n",
    "# Normalization of columns \"Age\" and \"Fare\"\n",
    "from sklearn.preprocessing import RobustScaler\n",
    "\n",
    "age_fare_scaler = RobustScaler()\n",
    "\n",
    "age_fae_tf_set = pd.DataFrame(age_fare_scaler.fit_transform(X_train[[\"Age\", \"Fare\"]]),\n",
    "                              columns=[\"Age\", \"Fare\"], index=X_train.index)\n",
    "\n",
    "X_train = pd.concat([X_train.drop([\"Age\", \"Fare\"], axis=1), age_fae_tf_set], axis=1)"
   ]
  },
  {
   "cell_type": "code",
   "execution_count": 17,
   "metadata": {},
   "outputs": [],
   "source": [
    "def preprocessing_new_data(X, inplace=False):\n",
    "\n",
    "    if not inplace:\n",
    "        X = X.copy()\n",
    "        \n",
    "    if \"Cabin\" in X:\n",
    "        X.drop('Cabin', axis=1, inplace=True)\n",
    "\n",
    "    if \"Name\" in X:\n",
    "        X.drop('Name', axis=1, inplace=True)\n",
    "\n",
    "    # columns \"Sex\"\n",
    "    sex_tf_set = pd.DataFrame(sex_encoder.transform(X[[\"Sex\"]]).toarray(),\n",
    "                          columns=[\"F\", \"H\"], index=X.index)\n",
    "    X = pd.concat([X.drop(\"Sex\", axis=1), sex_tf_set], axis=1)\n",
    "    \n",
    "    \n",
    "    # columns \"Embarked\"\n",
    "    embarked_tf_set = pd.DataFrame(embarked_encoder.transform(X[[\"Embarked\"]]).toarray(),\n",
    "                               columns=[\"C\", \"S\", \"Q\"], index=X.index)\n",
    "    X = pd.concat([X.drop(\"Embarked\", axis=1), embarked_tf_set], axis=1)\n",
    "\n",
    "\n",
    "    # columns \"Ticket\"\n",
    "    ticket_tf = ticket_encoder.transform(X[[\"Ticket\"]]).toarray()\n",
    "    ticket_tf_set = pd.DataFrame(ticket_tf, \n",
    "                                 columns=[f\"Ticket_{i}\" for i in range(ticket_tf.shape[1])],\n",
    "                                 index=X.index)\n",
    "    \n",
    "    X = pd.concat([X.drop(\"Ticket\", axis=1), ticket_tf_set], axis=1)\n",
    "\n",
    "    # Imputation \n",
    "    # colums \"Age\"\n",
    "    X[\"Age\"] = age_impute.transform(X[[\"Age\"]])\n",
    "    \n",
    "    # column \"Fare\"\n",
    "    X[\"Fare\"] = fare_impute.transform(X[[\"Fare\"]])\n",
    "    \n",
    "    # Normalization \n",
    "    age_fae_tf_set = pd.DataFrame(age_fare_scaler.transform(X[[\"Age\", \"Fare\"]]),\n",
    "                              columns=[\"Age\", \"Fare\"], index=X.index)\n",
    "\n",
    "    X = pd.concat([X.drop([\"Age\", \"Fare\"], axis=1), age_fae_tf_set], axis=1)\n",
    "    return X"
   ]
  },
  {
   "cell_type": "code",
   "execution_count": 18,
   "metadata": {},
   "outputs": [],
   "source": [
    "X_test = preprocessing_new_data(X_test)"
   ]
  },
  {
   "cell_type": "markdown",
   "metadata": {},
   "source": [
    "## 3. Model Building"
   ]
  },
  {
   "cell_type": "markdown",
   "metadata": {},
   "source": [
    "### 3.1 Logistic Regression"
   ]
  },
  {
   "cell_type": "code",
   "execution_count": 19,
   "metadata": {},
   "outputs": [
    {
     "name": "stdout",
     "output_type": "stream",
     "text": [
      "Logistic Regression Score: 0.8033707865168539\n",
      "Confusion Matrix:\n",
      "[[101  13]\n",
      " [ 22  42]]\n"
     ]
    }
   ],
   "source": [
    "from sklearn.metrics import confusion_matrix\n",
    "from sklearn.linear_model import LogisticRegression\n",
    "\n",
    "logreg_model = LogisticRegression(solver='newton-cg')\n",
    "\n",
    "logreg_model.fit(X_train, y_train)\n",
    "\n",
    "print(f\"Logistic Regression Score: {logreg_model.score(X_test, y_test)}\")\n",
    "print(\"Confusion Matrix:\")\n",
    "print(confusion_matrix(y_test, logreg_model.predict(X_test)))"
   ]
  },
  {
   "cell_type": "markdown",
   "metadata": {},
   "source": [
    "### 3.2 Random Forest"
   ]
  },
  {
   "cell_type": "code",
   "execution_count": 20,
   "metadata": {},
   "outputs": [
    {
     "name": "stdout",
     "output_type": "stream",
     "text": [
      "RandomForest Score: 0.8270042194092827\n",
      "Confusion Matrix:\n",
      "[[106   8]\n",
      " [ 22  42]]\n"
     ]
    }
   ],
   "source": [
    "from sklearn.model_selection import GridSearchCV\n",
    "from sklearn.metrics import confusion_matrix\n",
    "from sklearn.linear_model import LogisticRegression\n",
    "from sklearn.ensemble import RandomForestClassifier\n",
    "\n",
    "# Estimation of the hyperparameters of the Random Forest model\n",
    "param_grid = {\n",
    "    'n_estimators': [100, 300, 500, 800, 1200], \n",
    "    'max_depth': [5, 8, 15, 25, 30],\n",
    "    'min_samples_split': [2, 5, 10, 15, 30], \n",
    "    'min_samples_leaf': [1, 2, 5, 10] \n",
    "\n",
    "}\n",
    "# run grid search\n",
    "grid_search_randfor = GridSearchCV(RandomForestClassifier(n_jobs = -1), param_grid=param_grid, cv=5)\n",
    "\n",
    "grid_search_randfor.fit(X_train, y_train)\n",
    "\n",
    "print(f\"RandomForest Score: {grid_search_randfor.best_score_}\")\n",
    "print(\"Confusion Matrix:\")\n",
    "print(confusion_matrix(y_test, grid_search_randfor.best_estimator_.predict(X_test)))"
   ]
  },
  {
   "cell_type": "code",
   "execution_count": 21,
   "metadata": {},
   "outputs": [
    {
     "data": {
      "text/plain": [
       "0.8370786516853933"
      ]
     },
     "execution_count": 21,
     "metadata": {},
     "output_type": "execute_result"
    }
   ],
   "source": [
    "rf_model = RandomForestClassifier(max_depth=25, \n",
    "                                  min_samples_leaf=1,\n",
    "                                  min_samples_split=2,\n",
    "                                  n_estimators=300)\n",
    "\n",
    "rf_model.fit(X_train, y_train)\n",
    "\n",
    "rf_model.score(X_test, y_test)"
   ]
  },
  {
   "cell_type": "markdown",
   "metadata": {},
   "source": [
    "### 3.3 SVM"
   ]
  },
  {
   "cell_type": "code",
   "execution_count": 22,
   "metadata": {},
   "outputs": [
    {
     "data": {
      "text/plain": [
       "0.7921348314606742"
      ]
     },
     "execution_count": 22,
     "metadata": {},
     "output_type": "execute_result"
    }
   ],
   "source": [
    "from sklearn.svm import SVC\n",
    "\n",
    "svm_model = SVC(C=10, kernel='linear')\n",
    "\n",
    "svm_model.fit(X_train, y_train)\n",
    "\n",
    "svm_model.score(X_test, y_test)"
   ]
  },
  {
   "cell_type": "code",
   "execution_count": 23,
   "metadata": {},
   "outputs": [],
   "source": [
    "\n",
    "test = preprocessing_new_data(test)\n",
    "\n",
    "submission = pd.DataFrame({\n",
    "    \"Survived\": rf_model.predict(test),\n",
    "    \"PassengerId\": test.index\n",
    "})\n",
    "\n",
    "submission.to_csv(\"submission.csv\", index=False)\n"
   ]
  },
  {
   "cell_type": "code",
   "execution_count": null,
   "metadata": {},
   "outputs": [],
   "source": []
  },
  {
   "cell_type": "code",
   "execution_count": null,
   "metadata": {},
   "outputs": [],
   "source": []
  },
  {
   "cell_type": "code",
   "execution_count": null,
   "metadata": {},
   "outputs": [],
   "source": []
  }
 ],
 "metadata": {
  "kernelspec": {
   "display_name": "Python 3",
   "language": "python",
   "name": "python3"
  },
  "language_info": {
   "codemirror_mode": {
    "name": "ipython",
    "version": 3
   },
   "file_extension": ".py",
   "mimetype": "text/x-python",
   "name": "python",
   "nbconvert_exporter": "python",
   "pygments_lexer": "ipython3",
   "version": "3.6.6"
  }
 },
 "nbformat": 4,
 "nbformat_minor": 1
}
